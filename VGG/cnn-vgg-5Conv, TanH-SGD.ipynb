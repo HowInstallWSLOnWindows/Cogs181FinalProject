{
 "cells": [
  {
   "cell_type": "markdown",
   "metadata": {
    "colab_type": "text",
    "id": "MkoGLH_Tj5wn"
   },
   "source": [
    "## Imports"
   ]
  },
  {
   "cell_type": "code",
   "execution_count": 1,
   "metadata": {
    "colab": {
     "autoexec": {
      "startup": false,
      "wait_interval": 0
     }
    },
    "colab_type": "code",
    "id": "ORj09gnrj5wp"
   },
   "outputs": [],
   "source": [
    "import time\n",
    "import numpy as np\n",
    "import torch\n",
    "import torch.nn as nn\n",
    "import torch.nn.functional as F\n",
    "from torchvision import datasets\n",
    "from torchvision import transforms\n",
    "from torch.utils.data import DataLoader\n",
    "\n",
    "\n",
    "if torch.cuda.is_available():\n",
    "    torch.backends.cudnn.deterministic = True"
   ]
  },
  {
   "cell_type": "markdown",
   "metadata": {
    "colab_type": "text",
    "id": "PvgJ_0i7j5wt"
   },
   "source": [
    "## Settings and Dataset"
   ]
  },
  {
   "cell_type": "code",
   "execution_count": 2,
   "metadata": {
    "colab": {
     "autoexec": {
      "startup": false,
      "wait_interval": 0
     },
     "base_uri": "https://localhost:8080/",
     "height": 85
    },
    "colab_type": "code",
    "executionInfo": {
     "elapsed": 23936,
     "status": "ok",
     "timestamp": 1524974497505,
     "user": {
      "displayName": "Sebastian Raschka",
      "photoUrl": "//lh6.googleusercontent.com/-cxK6yOSQ6uE/AAAAAAAAAAI/AAAAAAAAIfw/P9ar_CHsKOQ/s50-c-k-no/photo.jpg",
      "userId": "118404394130788869227"
     },
     "user_tz": 240
    },
    "id": "NnT0sZIwj5wu",
    "outputId": "55aed925-d17e-4c6a-8c71-0d9b3bde5637"
   },
   "outputs": [
    {
     "name": "stdout",
     "output_type": "stream",
     "text": [
      "cuda:0\n",
      "Files already downloaded and verified\n",
      "Image batch dimensions: torch.Size([128, 3, 32, 32])\n",
      "Image label dimensions: torch.Size([128])\n"
     ]
    }
   ],
   "source": [
    "##########################\n",
    "### SETTINGS\n",
    "##########################\n",
    "\n",
    "# Device\n",
    "device = torch.device(\"cuda:0\" if torch.cuda.is_available() else \"cpu\")\n",
    "print(device)\n",
    "\n",
    "# Hyperparameters\n",
    "random_seed = 1\n",
    "learning_rate = 0.001\n",
    "num_epochs = 10\n",
    "batch_size = 128\n",
    "\n",
    "# Architecture\n",
    "num_features = 784\n",
    "num_classes = 10\n",
    "\n",
    "\n",
    "##########################\n",
    "### MNIST DATASET\n",
    "##########################\n",
    "\n",
    "# Note transforms.ToTensor() scales input images\n",
    "# to 0-1 range\n",
    "train_dataset = datasets.CIFAR10(root='data', \n",
    "                                 train=True, \n",
    "                                 transform=transforms.ToTensor(),\n",
    "                                 download=True)\n",
    "\n",
    "test_dataset = datasets.CIFAR10(root='data', \n",
    "                                train=False, \n",
    "                                transform=transforms.ToTensor())\n",
    "\n",
    "\n",
    "train_loader = DataLoader(dataset=train_dataset, \n",
    "                          batch_size=batch_size, \n",
    "                          shuffle=True)\n",
    "\n",
    "test_loader = DataLoader(dataset=test_dataset, \n",
    "                         batch_size=batch_size, \n",
    "                         shuffle=False)\n",
    "\n",
    "# Checking the dataset\n",
    "for images, labels in train_loader:  \n",
    "    print('Image batch dimensions:', images.shape)\n",
    "    print('Image label dimensions:', labels.shape)\n",
    "    break"
   ]
  },
  {
   "cell_type": "markdown",
   "metadata": {
    "colab_type": "text",
    "id": "I6hghKPxj5w0"
   },
   "source": [
    "## Model"
   ]
  },
  {
   "cell_type": "code",
   "execution_count": 3,
   "metadata": {
    "colab": {
     "autoexec": {
      "startup": false,
      "wait_interval": 0
     }
    },
    "colab_type": "code",
    "id": "_lza9t_uj5w1"
   },
   "outputs": [],
   "source": [
    "##########################\n",
    "### MODEL\n",
    "##########################\n",
    "\n",
    "\n",
    "class VGG5(torch.nn.Module):\n",
    "\n",
    "    def __init__(self, num_features, num_classes):\n",
    "        super(VGG5, self).__init__()\n",
    "        \n",
    "        # calculate same padding:\n",
    "        # (w - k + 2*p)/s + 1 = o\n",
    "        # => p = (s(o-1) - w + k)/2\n",
    "        \n",
    "        self.block_1 = nn.Sequential(\n",
    "            nn.Conv2d(3, 64, kernel_size=11, stride=4, padding=2),\n",
    "            nn.Tanh(),\n",
    "            nn.MaxPool2d(kernel_size=3, stride=2, padding=1),  \n",
    "            nn.Conv2d(64, 192, kernel_size=5, padding=2),\n",
    "            nn.Tanh(),\n",
    "            nn.MaxPool2d(kernel_size=3, stride=2, padding=1),  \n",
    "            nn.Conv2d(192, 384, kernel_size=3, padding=1),\n",
    "            nn.Tanh(),\n",
    "            nn.Conv2d(384, 256, kernel_size=3, padding=1),\n",
    "            nn.Tanh(),\n",
    "            nn.MaxPool2d(kernel_size=3, stride=2, padding=1),  \n",
    "            nn.Conv2d(256, 256, kernel_size=3, padding=1),\n",
    "            nn.Tanh(),\n",
    "            nn.MaxPool2d(kernel_size=3, stride=2, padding=1)\n",
    "        )\n",
    "        \n",
    "            \n",
    "        self.classifier = nn.Sequential(\n",
    "            nn.Linear(256, 4096),\n",
    "            nn.Tanh(),\n",
    "            nn.Dropout(p=0.5),\n",
    "            nn.Linear(4096, 4096),\n",
    "            nn.Tanh(),\n",
    "            nn.Dropout(p=0.5),\n",
    "            nn.Linear(4096, num_classes),\n",
    "        )\n",
    "            \n",
    "        for m in self.modules():\n",
    "            if isinstance(m, torch.nn.Conv2d) or isinstance(m, torch.nn.Linear):\n",
    "                nn.init.kaiming_uniform_(m.weight, mode='fan_in', nonlinearity='tanh')\n",
    "                if m.bias is not None:\n",
    "                    m.bias.detach().zero_()\n",
    "                    \n",
    "        #self.avgpool = nn.AdaptiveAvgPool2d((7, 7))\n",
    "        \n",
    "        \n",
    "    def forward(self, x):\n",
    "        x = self.block_1(x)\n",
    "        #x = self.avgpool(x)\n",
    "        x = x.view(x.size(0), -1)\n",
    "        logits = self.classifier(x)\n",
    "        probas = F.softmax(logits, dim=1)\n",
    "\n",
    "        return logits, probas\n",
    "\n",
    "    \n",
    "torch.manual_seed(random_seed)\n",
    "model = VGG5(num_features=num_features,\n",
    "              num_classes=num_classes)\n",
    "\n",
    "model = model.to(device)\n",
    "optimizer = torch.optim.SGD(model.parameters(), lr=learning_rate)  "
   ]
  },
  {
   "cell_type": "markdown",
   "metadata": {
    "colab_type": "text",
    "id": "RAodboScj5w6"
   },
   "source": [
    "## Training"
   ]
  },
  {
   "cell_type": "code",
   "execution_count": 4,
   "metadata": {
    "colab": {
     "autoexec": {
      "startup": false,
      "wait_interval": 0
     },
     "base_uri": "https://localhost:8080/",
     "height": 1547
    },
    "colab_type": "code",
    "executionInfo": {
     "elapsed": 2384585,
     "status": "ok",
     "timestamp": 1524976888520,
     "user": {
      "displayName": "Sebastian Raschka",
      "photoUrl": "//lh6.googleusercontent.com/-cxK6yOSQ6uE/AAAAAAAAAAI/AAAAAAAAIfw/P9ar_CHsKOQ/s50-c-k-no/photo.jpg",
      "userId": "118404394130788869227"
     },
     "user_tz": 240
    },
    "id": "Dzh3ROmRj5w7",
    "outputId": "5f8fd8c9-b076-403a-b0b7-fd2d498b48d7"
   },
   "outputs": [
    {
     "name": "stdout",
     "output_type": "stream",
     "text": [
      "Epoch: 001/010 | Batch 0000/0391 | Cost: 3.1044\n",
      "Epoch: 001/010 | Batch 0050/0391 | Cost: 2.4969\n",
      "Epoch: 001/010 | Batch 0100/0391 | Cost: 2.4533\n",
      "Epoch: 001/010 | Batch 0150/0391 | Cost: 2.2711\n",
      "Epoch: 001/010 | Batch 0200/0391 | Cost: 2.1284\n",
      "Epoch: 001/010 | Batch 0250/0391 | Cost: 1.8992\n",
      "Epoch: 001/010 | Batch 0300/0391 | Cost: 2.0525\n",
      "Epoch: 001/010 | Batch 0350/0391 | Cost: 1.9241\n",
      "Epoch: 001/010 | Train: 33.770% |  Loss: 1.844\n",
      "Time elapsed: 0.59 min\n",
      "Epoch: 002/010 | Batch 0000/0391 | Cost: 1.8764\n",
      "Epoch: 002/010 | Batch 0050/0391 | Cost: 1.8957\n",
      "Epoch: 002/010 | Batch 0100/0391 | Cost: 1.8650\n",
      "Epoch: 002/010 | Batch 0150/0391 | Cost: 1.7790\n",
      "Epoch: 002/010 | Batch 0200/0391 | Cost: 1.9758\n",
      "Epoch: 002/010 | Batch 0250/0391 | Cost: 1.7771\n",
      "Epoch: 002/010 | Batch 0300/0391 | Cost: 1.9739\n",
      "Epoch: 002/010 | Batch 0350/0391 | Cost: 1.8201\n",
      "Epoch: 002/010 | Train: 39.058% |  Loss: 1.697\n",
      "Time elapsed: 1.12 min\n",
      "Epoch: 003/010 | Batch 0000/0391 | Cost: 1.6839\n",
      "Epoch: 003/010 | Batch 0050/0391 | Cost: 1.8800\n",
      "Epoch: 003/010 | Batch 0100/0391 | Cost: 1.7584\n",
      "Epoch: 003/010 | Batch 0150/0391 | Cost: 1.7700\n",
      "Epoch: 003/010 | Batch 0200/0391 | Cost: 1.8948\n",
      "Epoch: 003/010 | Batch 0250/0391 | Cost: 1.8764\n",
      "Epoch: 003/010 | Batch 0300/0391 | Cost: 1.7446\n",
      "Epoch: 003/010 | Batch 0350/0391 | Cost: 1.7915\n",
      "Epoch: 003/010 | Train: 40.964% |  Loss: 1.635\n",
      "Time elapsed: 1.65 min\n",
      "Epoch: 004/010 | Batch 0000/0391 | Cost: 1.7308\n",
      "Epoch: 004/010 | Batch 0050/0391 | Cost: 1.6982\n",
      "Epoch: 004/010 | Batch 0100/0391 | Cost: 1.7958\n",
      "Epoch: 004/010 | Batch 0150/0391 | Cost: 1.6770\n",
      "Epoch: 004/010 | Batch 0200/0391 | Cost: 1.5325\n",
      "Epoch: 004/010 | Batch 0250/0391 | Cost: 1.5088\n",
      "Epoch: 004/010 | Batch 0300/0391 | Cost: 1.7551\n",
      "Epoch: 004/010 | Batch 0350/0391 | Cost: 1.7238\n",
      "Epoch: 004/010 | Train: 43.784% |  Loss: 1.567\n",
      "Time elapsed: 2.19 min\n",
      "Epoch: 005/010 | Batch 0000/0391 | Cost: 1.6265\n",
      "Epoch: 005/010 | Batch 0050/0391 | Cost: 1.7694\n",
      "Epoch: 005/010 | Batch 0100/0391 | Cost: 1.5211\n",
      "Epoch: 005/010 | Batch 0150/0391 | Cost: 1.5492\n",
      "Epoch: 005/010 | Batch 0200/0391 | Cost: 1.5367\n",
      "Epoch: 005/010 | Batch 0250/0391 | Cost: 2.0047\n",
      "Epoch: 005/010 | Batch 0300/0391 | Cost: 1.7166\n",
      "Epoch: 005/010 | Batch 0350/0391 | Cost: 1.7239\n",
      "Epoch: 005/010 | Train: 45.250% |  Loss: 1.519\n",
      "Time elapsed: 2.75 min\n",
      "Epoch: 006/010 | Batch 0000/0391 | Cost: 1.5373\n",
      "Epoch: 006/010 | Batch 0050/0391 | Cost: 1.4372\n",
      "Epoch: 006/010 | Batch 0100/0391 | Cost: 1.6677\n",
      "Epoch: 006/010 | Batch 0150/0391 | Cost: 1.7489\n",
      "Epoch: 006/010 | Batch 0200/0391 | Cost: 1.4720\n",
      "Epoch: 006/010 | Batch 0250/0391 | Cost: 1.7104\n",
      "Epoch: 006/010 | Batch 0300/0391 | Cost: 1.6280\n",
      "Epoch: 006/010 | Batch 0350/0391 | Cost: 1.5999\n",
      "Epoch: 006/010 | Train: 46.192% |  Loss: 1.484\n",
      "Time elapsed: 3.29 min\n",
      "Epoch: 007/010 | Batch 0000/0391 | Cost: 1.5041\n",
      "Epoch: 007/010 | Batch 0050/0391 | Cost: 1.5814\n",
      "Epoch: 007/010 | Batch 0100/0391 | Cost: 1.4381\n",
      "Epoch: 007/010 | Batch 0150/0391 | Cost: 1.6628\n",
      "Epoch: 007/010 | Batch 0200/0391 | Cost: 1.5608\n",
      "Epoch: 007/010 | Batch 0250/0391 | Cost: 1.6137\n",
      "Epoch: 007/010 | Batch 0300/0391 | Cost: 1.5681\n",
      "Epoch: 007/010 | Batch 0350/0391 | Cost: 1.9596\n",
      "Epoch: 007/010 | Train: 47.342% |  Loss: 1.460\n",
      "Time elapsed: 3.85 min\n",
      "Epoch: 008/010 | Batch 0000/0391 | Cost: 1.5493\n",
      "Epoch: 008/010 | Batch 0050/0391 | Cost: 1.6696\n",
      "Epoch: 008/010 | Batch 0100/0391 | Cost: 1.5429\n",
      "Epoch: 008/010 | Batch 0150/0391 | Cost: 1.6226\n",
      "Epoch: 008/010 | Batch 0200/0391 | Cost: 1.5895\n",
      "Epoch: 008/010 | Batch 0250/0391 | Cost: 1.6032\n",
      "Epoch: 008/010 | Batch 0300/0391 | Cost: 1.7368\n",
      "Epoch: 008/010 | Batch 0350/0391 | Cost: 1.4932\n",
      "Epoch: 008/010 | Train: 46.830% |  Loss: 1.476\n",
      "Time elapsed: 4.44 min\n",
      "Epoch: 009/010 | Batch 0000/0391 | Cost: 1.6036\n",
      "Epoch: 009/010 | Batch 0050/0391 | Cost: 1.5669\n",
      "Epoch: 009/010 | Batch 0100/0391 | Cost: 1.6655\n",
      "Epoch: 009/010 | Batch 0150/0391 | Cost: 1.6094\n",
      "Epoch: 009/010 | Batch 0200/0391 | Cost: 1.5814\n",
      "Epoch: 009/010 | Batch 0250/0391 | Cost: 1.6041\n",
      "Epoch: 009/010 | Batch 0300/0391 | Cost: 1.4035\n",
      "Epoch: 009/010 | Batch 0350/0391 | Cost: 1.5411\n",
      "Epoch: 009/010 | Train: 48.618% |  Loss: 1.431\n",
      "Time elapsed: 5.03 min\n",
      "Epoch: 010/010 | Batch 0000/0391 | Cost: 1.4997\n",
      "Epoch: 010/010 | Batch 0050/0391 | Cost: 1.5644\n",
      "Epoch: 010/010 | Batch 0100/0391 | Cost: 1.6373\n",
      "Epoch: 010/010 | Batch 0150/0391 | Cost: 1.4524\n",
      "Epoch: 010/010 | Batch 0200/0391 | Cost: 1.4159\n",
      "Epoch: 010/010 | Batch 0250/0391 | Cost: 1.4805\n",
      "Epoch: 010/010 | Batch 0300/0391 | Cost: 1.4563\n",
      "Epoch: 010/010 | Batch 0350/0391 | Cost: 1.3918\n",
      "Epoch: 010/010 | Train: 49.828% |  Loss: 1.394\n",
      "Time elapsed: 5.58 min\n",
      "Total Training Time: 5.58 min\n"
     ]
    }
   ],
   "source": [
    "def compute_accuracy(model, data_loader):\n",
    "    model.eval()\n",
    "    correct_pred, num_examples = 0, 0\n",
    "    for i, (features, targets) in enumerate(data_loader):\n",
    "            \n",
    "        features = features.to(device)\n",
    "        targets = targets.to(device)\n",
    "\n",
    "        logits, probas = model(features)\n",
    "        _, predicted_labels = torch.max(probas, 1)\n",
    "        num_examples += targets.size(0)\n",
    "        correct_pred += (predicted_labels == targets).sum()\n",
    "    return correct_pred.float()/num_examples * 100\n",
    "\n",
    "\n",
    "def compute_epoch_loss(model, data_loader):\n",
    "    model.eval()\n",
    "    curr_loss, num_examples = 0., 0\n",
    "    with torch.no_grad():\n",
    "        for features, targets in data_loader:\n",
    "            features = features.to(device)\n",
    "            targets = targets.to(device)\n",
    "            logits, probas = model(features)\n",
    "            loss = F.cross_entropy(logits, targets, reduction='sum')\n",
    "            num_examples += targets.size(0)\n",
    "            curr_loss += loss\n",
    "\n",
    "        curr_loss = curr_loss / num_examples\n",
    "        return curr_loss\n",
    "    \n",
    "    \n",
    "\n",
    "start_time = time.time()\n",
    "for epoch in range(num_epochs):\n",
    "    \n",
    "    model.train()\n",
    "    for batch_idx, (features, targets) in enumerate(train_loader):\n",
    "        \n",
    "        features = features.to(device)\n",
    "        targets = targets.to(device)\n",
    "            \n",
    "        ### FORWARD AND BACK PROP\n",
    "        logits, probas = model(features)\n",
    "        cost = F.cross_entropy(logits, targets)\n",
    "        optimizer.zero_grad()\n",
    "        \n",
    "        cost.backward()\n",
    "        \n",
    "        ### UPDATE MODEL PARAMETERS\n",
    "        optimizer.step()\n",
    "        \n",
    "        ### LOGGING\n",
    "        if not batch_idx % 50:\n",
    "            print ('Epoch: %03d/%03d | Batch %04d/%04d | Cost: %.4f' \n",
    "                   %(epoch+1, num_epochs, batch_idx, \n",
    "                     len(train_loader), cost))\n",
    "\n",
    "    model.eval()\n",
    "    with torch.set_grad_enabled(False): # save memory during inference\n",
    "        print('Epoch: %03d/%03d | Train: %.3f%% |  Loss: %.3f' % (\n",
    "              epoch+1, num_epochs, \n",
    "              compute_accuracy(model, train_loader),\n",
    "              compute_epoch_loss(model, train_loader)))\n",
    "\n",
    "\n",
    "    print('Time elapsed: %.2f min' % ((time.time() - start_time)/60))\n",
    "    \n",
    "print('Total Training Time: %.2f min' % ((time.time() - start_time)/60))"
   ]
  },
  {
   "cell_type": "markdown",
   "metadata": {
    "colab_type": "text",
    "id": "paaeEQHQj5xC"
   },
   "source": [
    "## Evaluation"
   ]
  },
  {
   "cell_type": "code",
   "execution_count": 5,
   "metadata": {
    "colab": {
     "autoexec": {
      "startup": false,
      "wait_interval": 0
     },
     "base_uri": "https://localhost:8080/",
     "height": 34
    },
    "colab_type": "code",
    "executionInfo": {
     "elapsed": 6514,
     "status": "ok",
     "timestamp": 1524976895054,
     "user": {
      "displayName": "Sebastian Raschka",
      "photoUrl": "//lh6.googleusercontent.com/-cxK6yOSQ6uE/AAAAAAAAAAI/AAAAAAAAIfw/P9ar_CHsKOQ/s50-c-k-no/photo.jpg",
      "userId": "118404394130788869227"
     },
     "user_tz": 240
    },
    "id": "gzQMWKq5j5xE",
    "outputId": "de7dc005-5eeb-4177-9f9f-d9b5d1358db9"
   },
   "outputs": [
    {
     "name": "stdout",
     "output_type": "stream",
     "text": [
      "Test accuracy: 48.55%\n"
     ]
    }
   ],
   "source": [
    "with torch.set_grad_enabled(False): # save memory during inference\n",
    "    print('Test accuracy: %.2f%%' % (compute_accuracy(model, test_loader)))"
   ]
  }
 ],
 "metadata": {
  "accelerator": "GPU",
  "colab": {
   "collapsed_sections": [],
   "default_view": {},
   "name": "convnet-vgg16.ipynb",
   "provenance": [],
   "version": "0.3.2",
   "views": {}
  },
  "kernelspec": {
   "display_name": "Python 3 (ipykernel)",
   "language": "python",
   "name": "python3"
  },
  "language_info": {
   "codemirror_mode": {
    "name": "ipython",
    "version": 3
   },
   "file_extension": ".py",
   "mimetype": "text/x-python",
   "name": "python",
   "nbconvert_exporter": "python",
   "pygments_lexer": "ipython3",
   "version": "3.9.5"
  },
  "toc": {
   "nav_menu": {},
   "number_sections": true,
   "sideBar": true,
   "skip_h1_title": false,
   "title_cell": "Table of Contents",
   "title_sidebar": "Contents",
   "toc_cell": true,
   "toc_position": {
    "height": "calc(100% - 180px)",
    "left": "10px",
    "top": "150px",
    "width": "371px"
   },
   "toc_section_display": true,
   "toc_window_display": true
  }
 },
 "nbformat": 4,
 "nbformat_minor": 4
}
