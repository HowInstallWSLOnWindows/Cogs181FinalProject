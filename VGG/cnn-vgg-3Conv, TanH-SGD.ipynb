{
 "cells": [
  {
   "cell_type": "markdown",
   "metadata": {
    "colab_type": "text",
    "id": "MkoGLH_Tj5wn"
   },
   "source": [
    "## Imports"
   ]
  },
  {
   "cell_type": "code",
   "execution_count": 2,
   "metadata": {
    "colab": {
     "autoexec": {
      "startup": false,
      "wait_interval": 0
     }
    },
    "colab_type": "code",
    "id": "ORj09gnrj5wp"
   },
   "outputs": [],
   "source": [
    "import time\n",
    "import numpy as np\n",
    "import torch\n",
    "import torch.nn as nn\n",
    "import torch.nn.functional as F\n",
    "from torchvision import datasets\n",
    "from torchvision import transforms\n",
    "from torch.utils.data import DataLoader\n",
    "\n",
    "\n",
    "if torch.cuda.is_available():\n",
    "    torch.backends.cudnn.deterministic = True"
   ]
  },
  {
   "cell_type": "markdown",
   "metadata": {
    "colab_type": "text",
    "id": "PvgJ_0i7j5wt"
   },
   "source": [
    "## Settings and Dataset"
   ]
  },
  {
   "cell_type": "code",
   "execution_count": 3,
   "metadata": {
    "colab": {
     "autoexec": {
      "startup": false,
      "wait_interval": 0
     },
     "base_uri": "https://localhost:8080/",
     "height": 85
    },
    "colab_type": "code",
    "executionInfo": {
     "elapsed": 23936,
     "status": "ok",
     "timestamp": 1524974497505,
     "user": {
      "displayName": "Sebastian Raschka",
      "photoUrl": "//lh6.googleusercontent.com/-cxK6yOSQ6uE/AAAAAAAAAAI/AAAAAAAAIfw/P9ar_CHsKOQ/s50-c-k-no/photo.jpg",
      "userId": "118404394130788869227"
     },
     "user_tz": 240
    },
    "id": "NnT0sZIwj5wu",
    "outputId": "55aed925-d17e-4c6a-8c71-0d9b3bde5637"
   },
   "outputs": [
    {
     "name": "stdout",
     "output_type": "stream",
     "text": [
      "cuda:0\n",
      "Files already downloaded and verified\n",
      "Image batch dimensions: torch.Size([128, 3, 32, 32])\n",
      "Image label dimensions: torch.Size([128])\n"
     ]
    }
   ],
   "source": [
    "##########################\n",
    "### SETTINGS\n",
    "##########################\n",
    "\n",
    "# Device\n",
    "device = torch.device(\"cuda:0\" if torch.cuda.is_available() else \"cpu\")\n",
    "print(device)\n",
    "\n",
    "# Hyperparameters\n",
    "random_seed = 1\n",
    "learning_rate = 0.001\n",
    "num_epochs = 10\n",
    "batch_size = 128\n",
    "\n",
    "# Architecture\n",
    "num_features = 784\n",
    "num_classes = 10\n",
    "\n",
    "\n",
    "##########################\n",
    "### MNIST DATASET\n",
    "##########################\n",
    "\n",
    "# Note transforms.ToTensor() scales input images\n",
    "# to 0-1 range\n",
    "train_dataset = datasets.CIFAR10(root='data', \n",
    "                                 train=True, \n",
    "                                 transform=transforms.ToTensor(),\n",
    "                                 download=True)\n",
    "\n",
    "test_dataset = datasets.CIFAR10(root='data', \n",
    "                                train=False, \n",
    "                                transform=transforms.ToTensor())\n",
    "\n",
    "\n",
    "train_loader = DataLoader(dataset=train_dataset, \n",
    "                          batch_size=batch_size, \n",
    "                          shuffle=True)\n",
    "\n",
    "test_loader = DataLoader(dataset=test_dataset, \n",
    "                         batch_size=batch_size, \n",
    "                         shuffle=False)\n",
    "\n",
    "# Checking the dataset\n",
    "for images, labels in train_loader:  \n",
    "    print('Image batch dimensions:', images.shape)\n",
    "    print('Image label dimensions:', labels.shape)\n",
    "    break"
   ]
  },
  {
   "cell_type": "markdown",
   "metadata": {
    "colab_type": "text",
    "id": "I6hghKPxj5w0"
   },
   "source": [
    "## Model"
   ]
  },
  {
   "cell_type": "code",
   "execution_count": 4,
   "metadata": {
    "colab": {
     "autoexec": {
      "startup": false,
      "wait_interval": 0
     }
    },
    "colab_type": "code",
    "id": "_lza9t_uj5w1"
   },
   "outputs": [],
   "source": [
    "##########################\n",
    "### MODEL\n",
    "##########################\n",
    "\n",
    "\n",
    "class VGG3(torch.nn.Module):\n",
    "\n",
    "    def __init__(self, num_features, num_classes):\n",
    "        super(VGG3, self).__init__()\n",
    "        \n",
    "        # calculate same padding:\n",
    "        # (w - k + 2*p)/s + 1 = o\n",
    "        # => p = (s(o-1) - w + k)/2\n",
    "        \n",
    "        self.block_1 = nn.Sequential(\n",
    "                nn.Conv2d(in_channels=3,\n",
    "                          out_channels=64,\n",
    "                          kernel_size=11,\n",
    "                          stride=4,\n",
    "                          # (1(32-1)- 32 + 3)/2 = 1\n",
    "                          padding=2), \n",
    "                nn.Tanh(),\n",
    "                nn.MaxPool2d(kernel_size=3, stride=2),\n",
    "        )\n",
    "        \n",
    "        self.block_2 = nn.Sequential(\n",
    "                nn.Conv2d(in_channels=64,\n",
    "                          out_channels=192,\n",
    "                          kernel_size=5,\n",
    "                          stride = 1,\n",
    "                          padding=2),\n",
    "                nn.Tanh(),\n",
    "                nn.MaxPool2d(kernel_size=3,\n",
    "                             stride=2)\n",
    "        )\n",
    "        \n",
    "        self.block_3 = nn.Sequential(        \n",
    "                nn.Conv2d(in_channels=192,\n",
    "                          out_channels=384,\n",
    "                          kernel_size=3,\n",
    "                          stride = 1,\n",
    "                          padding=1),\n",
    "                nn.Tanh(),\n",
    "                nn.MaxPool2d(kernel_size=3,\n",
    "                             stride=2,\n",
    "                            padding = 1)        \n",
    "        )\n",
    "        \n",
    "            \n",
    "        self.classifier = nn.Sequential(\n",
    "            nn.Linear(384, 4096),\n",
    "            nn.Tanh(),\n",
    "            nn.Dropout(p=0.5),\n",
    "            nn.Linear(4096, 4096),\n",
    "            nn.Tanh(),\n",
    "            nn.Dropout(p=0.5),\n",
    "            nn.Linear(4096, num_classes),\n",
    "        )\n",
    "            \n",
    "        for m in self.modules():\n",
    "            if isinstance(m, torch.nn.Conv2d) or isinstance(m, torch.nn.Linear):\n",
    "                nn.init.kaiming_uniform_(m.weight, mode='fan_in', nonlinearity='tanh')\n",
    "                if m.bias is not None:\n",
    "                    m.bias.detach().zero_()\n",
    "                    \n",
    "        #self.avgpool = nn.AdaptiveAvgPool2d((7, 7))\n",
    "        \n",
    "        \n",
    "    def forward(self, x):\n",
    "\n",
    "        x = self.block_1(x)\n",
    "        x = self.block_2(x)\n",
    "        x = self.block_3(x)\n",
    "        #x = self.avgpool(x)\n",
    "        x = x.view(x.size(0), -1)\n",
    "        logits = self.classifier(x)\n",
    "        probas = F.softmax(logits, dim=1)\n",
    "\n",
    "        return logits, probas\n",
    "\n",
    "    \n",
    "torch.manual_seed(random_seed)\n",
    "model = VGG3(num_features=num_features,\n",
    "              num_classes=num_classes)\n",
    "\n",
    "model = model.to(device)\n",
    "optimizer = torch.optim.SGD(model.parameters(), lr=learning_rate)  "
   ]
  },
  {
   "cell_type": "markdown",
   "metadata": {
    "colab_type": "text",
    "id": "RAodboScj5w6"
   },
   "source": [
    "## Training"
   ]
  },
  {
   "cell_type": "code",
   "execution_count": 5,
   "metadata": {
    "colab": {
     "autoexec": {
      "startup": false,
      "wait_interval": 0
     },
     "base_uri": "https://localhost:8080/",
     "height": 1547
    },
    "colab_type": "code",
    "executionInfo": {
     "elapsed": 2384585,
     "status": "ok",
     "timestamp": 1524976888520,
     "user": {
      "displayName": "Sebastian Raschka",
      "photoUrl": "//lh6.googleusercontent.com/-cxK6yOSQ6uE/AAAAAAAAAAI/AAAAAAAAIfw/P9ar_CHsKOQ/s50-c-k-no/photo.jpg",
      "userId": "118404394130788869227"
     },
     "user_tz": 240
    },
    "id": "Dzh3ROmRj5w7",
    "outputId": "5f8fd8c9-b076-403a-b0b7-fd2d498b48d7"
   },
   "outputs": [
    {
     "name": "stdout",
     "output_type": "stream",
     "text": [
      "Epoch: 001/010 | Batch 0000/0391 | Cost: 3.2324\n",
      "Epoch: 001/010 | Batch 0050/0391 | Cost: 3.0835\n",
      "Epoch: 001/010 | Batch 0100/0391 | Cost: 2.8562\n",
      "Epoch: 001/010 | Batch 0150/0391 | Cost: 2.8220\n",
      "Epoch: 001/010 | Batch 0200/0391 | Cost: 2.5440\n",
      "Epoch: 001/010 | Batch 0250/0391 | Cost: 2.4076\n",
      "Epoch: 001/010 | Batch 0300/0391 | Cost: 2.3953\n",
      "Epoch: 001/010 | Batch 0350/0391 | Cost: 2.4612\n",
      "Epoch: 001/010 | Train: 29.662% |  Loss: 1.949\n",
      "Time elapsed: 0.38 min\n",
      "Epoch: 002/010 | Batch 0000/0391 | Cost: 2.2911\n",
      "Epoch: 002/010 | Batch 0050/0391 | Cost: 2.2731\n",
      "Epoch: 002/010 | Batch 0100/0391 | Cost: 2.1991\n",
      "Epoch: 002/010 | Batch 0150/0391 | Cost: 2.0160\n",
      "Epoch: 002/010 | Batch 0200/0391 | Cost: 2.0027\n",
      "Epoch: 002/010 | Batch 0250/0391 | Cost: 2.0364\n",
      "Epoch: 002/010 | Batch 0300/0391 | Cost: 2.0229\n",
      "Epoch: 002/010 | Batch 0350/0391 | Cost: 1.9773\n",
      "Epoch: 002/010 | Train: 35.012% |  Loss: 1.813\n",
      "Time elapsed: 0.70 min\n",
      "Epoch: 003/010 | Batch 0000/0391 | Cost: 1.7917\n",
      "Epoch: 003/010 | Batch 0050/0391 | Cost: 1.9954\n",
      "Epoch: 003/010 | Batch 0100/0391 | Cost: 2.0120\n",
      "Epoch: 003/010 | Batch 0150/0391 | Cost: 1.7483\n",
      "Epoch: 003/010 | Batch 0200/0391 | Cost: 1.6888\n",
      "Epoch: 003/010 | Batch 0250/0391 | Cost: 1.8135\n",
      "Epoch: 003/010 | Batch 0300/0391 | Cost: 1.8028\n",
      "Epoch: 003/010 | Batch 0350/0391 | Cost: 1.8422\n",
      "Epoch: 003/010 | Train: 37.790% |  Loss: 1.739\n",
      "Time elapsed: 1.03 min\n",
      "Epoch: 004/010 | Batch 0000/0391 | Cost: 1.8789\n",
      "Epoch: 004/010 | Batch 0050/0391 | Cost: 1.8315\n",
      "Epoch: 004/010 | Batch 0100/0391 | Cost: 1.7682\n",
      "Epoch: 004/010 | Batch 0150/0391 | Cost: 1.7502\n",
      "Epoch: 004/010 | Batch 0200/0391 | Cost: 1.7826\n",
      "Epoch: 004/010 | Batch 0250/0391 | Cost: 1.6188\n",
      "Epoch: 004/010 | Batch 0300/0391 | Cost: 1.8414\n",
      "Epoch: 004/010 | Batch 0350/0391 | Cost: 1.7202\n",
      "Epoch: 004/010 | Train: 39.562% |  Loss: 1.685\n",
      "Time elapsed: 1.35 min\n",
      "Epoch: 005/010 | Batch 0000/0391 | Cost: 1.7569\n",
      "Epoch: 005/010 | Batch 0050/0391 | Cost: 1.7816\n",
      "Epoch: 005/010 | Batch 0100/0391 | Cost: 1.8042\n",
      "Epoch: 005/010 | Batch 0150/0391 | Cost: 1.7878\n",
      "Epoch: 005/010 | Batch 0200/0391 | Cost: 1.6744\n",
      "Epoch: 005/010 | Batch 0250/0391 | Cost: 1.6778\n",
      "Epoch: 005/010 | Batch 0300/0391 | Cost: 1.8270\n",
      "Epoch: 005/010 | Batch 0350/0391 | Cost: 1.8261\n",
      "Epoch: 005/010 | Train: 41.482% |  Loss: 1.635\n",
      "Time elapsed: 1.69 min\n",
      "Epoch: 006/010 | Batch 0000/0391 | Cost: 1.7066\n",
      "Epoch: 006/010 | Batch 0050/0391 | Cost: 1.4931\n",
      "Epoch: 006/010 | Batch 0100/0391 | Cost: 1.6398\n",
      "Epoch: 006/010 | Batch 0150/0391 | Cost: 1.8552\n",
      "Epoch: 006/010 | Batch 0200/0391 | Cost: 1.8260\n",
      "Epoch: 006/010 | Batch 0250/0391 | Cost: 1.6729\n",
      "Epoch: 006/010 | Batch 0300/0391 | Cost: 1.7046\n",
      "Epoch: 006/010 | Batch 0350/0391 | Cost: 1.6380\n",
      "Epoch: 006/010 | Train: 42.400% |  Loss: 1.604\n",
      "Time elapsed: 2.02 min\n",
      "Epoch: 007/010 | Batch 0000/0391 | Cost: 1.6586\n",
      "Epoch: 007/010 | Batch 0050/0391 | Cost: 1.6049\n",
      "Epoch: 007/010 | Batch 0100/0391 | Cost: 1.7169\n",
      "Epoch: 007/010 | Batch 0150/0391 | Cost: 1.7576\n",
      "Epoch: 007/010 | Batch 0200/0391 | Cost: 1.7184\n",
      "Epoch: 007/010 | Batch 0250/0391 | Cost: 1.5918\n",
      "Epoch: 007/010 | Batch 0300/0391 | Cost: 1.7063\n",
      "Epoch: 007/010 | Batch 0350/0391 | Cost: 1.6651\n",
      "Epoch: 007/010 | Train: 43.738% |  Loss: 1.564\n",
      "Time elapsed: 2.35 min\n",
      "Epoch: 008/010 | Batch 0000/0391 | Cost: 1.5919\n",
      "Epoch: 008/010 | Batch 0050/0391 | Cost: 1.5885\n",
      "Epoch: 008/010 | Batch 0100/0391 | Cost: 1.6012\n",
      "Epoch: 008/010 | Batch 0150/0391 | Cost: 1.6754\n",
      "Epoch: 008/010 | Batch 0200/0391 | Cost: 1.7686\n",
      "Epoch: 008/010 | Batch 0250/0391 | Cost: 1.5696\n",
      "Epoch: 008/010 | Batch 0300/0391 | Cost: 1.3637\n",
      "Epoch: 008/010 | Batch 0350/0391 | Cost: 1.7816\n",
      "Epoch: 008/010 | Train: 44.956% |  Loss: 1.534\n",
      "Time elapsed: 2.67 min\n",
      "Epoch: 009/010 | Batch 0000/0391 | Cost: 1.6410\n",
      "Epoch: 009/010 | Batch 0050/0391 | Cost: 1.6978\n",
      "Epoch: 009/010 | Batch 0100/0391 | Cost: 1.6144\n",
      "Epoch: 009/010 | Batch 0150/0391 | Cost: 1.6417\n",
      "Epoch: 009/010 | Batch 0200/0391 | Cost: 1.5687\n",
      "Epoch: 009/010 | Batch 0250/0391 | Cost: 1.6044\n",
      "Epoch: 009/010 | Batch 0300/0391 | Cost: 1.6411\n",
      "Epoch: 009/010 | Batch 0350/0391 | Cost: 1.6779\n",
      "Epoch: 009/010 | Train: 45.680% |  Loss: 1.516\n",
      "Time elapsed: 2.99 min\n",
      "Epoch: 010/010 | Batch 0000/0391 | Cost: 1.6421\n",
      "Epoch: 010/010 | Batch 0050/0391 | Cost: 1.5692\n",
      "Epoch: 010/010 | Batch 0100/0391 | Cost: 1.4349\n",
      "Epoch: 010/010 | Batch 0150/0391 | Cost: 1.5638\n",
      "Epoch: 010/010 | Batch 0200/0391 | Cost: 1.5861\n",
      "Epoch: 010/010 | Batch 0250/0391 | Cost: 1.5737\n",
      "Epoch: 010/010 | Batch 0300/0391 | Cost: 1.6688\n",
      "Epoch: 010/010 | Batch 0350/0391 | Cost: 1.5720\n",
      "Epoch: 010/010 | Train: 46.080% |  Loss: 1.504\n",
      "Time elapsed: 3.31 min\n",
      "Total Training Time: 3.31 min\n"
     ]
    }
   ],
   "source": [
    "def compute_accuracy(model, data_loader):\n",
    "    model.eval()\n",
    "    correct_pred, num_examples = 0, 0\n",
    "    for i, (features, targets) in enumerate(data_loader):\n",
    "            \n",
    "        features = features.to(device)\n",
    "        targets = targets.to(device)\n",
    "\n",
    "        logits, probas = model(features)\n",
    "        _, predicted_labels = torch.max(probas, 1)\n",
    "        num_examples += targets.size(0)\n",
    "        correct_pred += (predicted_labels == targets).sum()\n",
    "    return correct_pred.float()/num_examples * 100\n",
    "\n",
    "\n",
    "def compute_epoch_loss(model, data_loader):\n",
    "    model.eval()\n",
    "    curr_loss, num_examples = 0., 0\n",
    "    with torch.no_grad():\n",
    "        for features, targets in data_loader:\n",
    "            features = features.to(device)\n",
    "            targets = targets.to(device)\n",
    "            logits, probas = model(features)\n",
    "            loss = F.cross_entropy(logits, targets, reduction='sum')\n",
    "            num_examples += targets.size(0)\n",
    "            curr_loss += loss\n",
    "\n",
    "        curr_loss = curr_loss / num_examples\n",
    "        return curr_loss\n",
    "    \n",
    "    \n",
    "\n",
    "start_time = time.time()\n",
    "for epoch in range(num_epochs):\n",
    "    \n",
    "    model.train()\n",
    "    for batch_idx, (features, targets) in enumerate(train_loader):\n",
    "        \n",
    "        features = features.to(device)\n",
    "        targets = targets.to(device)\n",
    "            \n",
    "        ### FORWARD AND BACK PROP\n",
    "        logits, probas = model(features)\n",
    "        cost = F.cross_entropy(logits, targets)\n",
    "        optimizer.zero_grad()\n",
    "        \n",
    "        cost.backward()\n",
    "        \n",
    "        ### UPDATE MODEL PARAMETERS\n",
    "        optimizer.step()\n",
    "        \n",
    "        ### LOGGING\n",
    "        if not batch_idx % 50:\n",
    "            print ('Epoch: %03d/%03d | Batch %04d/%04d | Cost: %.4f' \n",
    "                   %(epoch+1, num_epochs, batch_idx, \n",
    "                     len(train_loader), cost))\n",
    "\n",
    "    model.eval()\n",
    "    with torch.set_grad_enabled(False): # save memory during inference\n",
    "        print('Epoch: %03d/%03d | Train: %.3f%% |  Loss: %.3f' % (\n",
    "              epoch+1, num_epochs, \n",
    "              compute_accuracy(model, train_loader),\n",
    "              compute_epoch_loss(model, train_loader)))\n",
    "\n",
    "\n",
    "    print('Time elapsed: %.2f min' % ((time.time() - start_time)/60))\n",
    "    \n",
    "print('Total Training Time: %.2f min' % ((time.time() - start_time)/60))"
   ]
  },
  {
   "cell_type": "markdown",
   "metadata": {
    "colab_type": "text",
    "id": "paaeEQHQj5xC"
   },
   "source": [
    "## Evaluation"
   ]
  },
  {
   "cell_type": "code",
   "execution_count": 6,
   "metadata": {
    "colab": {
     "autoexec": {
      "startup": false,
      "wait_interval": 0
     },
     "base_uri": "https://localhost:8080/",
     "height": 34
    },
    "colab_type": "code",
    "executionInfo": {
     "elapsed": 6514,
     "status": "ok",
     "timestamp": 1524976895054,
     "user": {
      "displayName": "Sebastian Raschka",
      "photoUrl": "//lh6.googleusercontent.com/-cxK6yOSQ6uE/AAAAAAAAAAI/AAAAAAAAIfw/P9ar_CHsKOQ/s50-c-k-no/photo.jpg",
      "userId": "118404394130788869227"
     },
     "user_tz": 240
    },
    "id": "gzQMWKq5j5xE",
    "outputId": "de7dc005-5eeb-4177-9f9f-d9b5d1358db9"
   },
   "outputs": [
    {
     "name": "stdout",
     "output_type": "stream",
     "text": [
      "Test accuracy: 45.42%\n"
     ]
    }
   ],
   "source": [
    "with torch.set_grad_enabled(False): # save memory during inference\n",
    "    print('Test accuracy: %.2f%%' % (compute_accuracy(model, test_loader)))"
   ]
  }
 ],
 "metadata": {
  "accelerator": "GPU",
  "colab": {
   "collapsed_sections": [],
   "default_view": {},
   "name": "convnet-vgg16.ipynb",
   "provenance": [],
   "version": "0.3.2",
   "views": {}
  },
  "kernelspec": {
   "display_name": "Python 3 (ipykernel)",
   "language": "python",
   "name": "python3"
  },
  "language_info": {
   "codemirror_mode": {
    "name": "ipython",
    "version": 3
   },
   "file_extension": ".py",
   "mimetype": "text/x-python",
   "name": "python",
   "nbconvert_exporter": "python",
   "pygments_lexer": "ipython3",
   "version": "3.9.5"
  },
  "toc": {
   "nav_menu": {},
   "number_sections": true,
   "sideBar": true,
   "skip_h1_title": false,
   "title_cell": "Table of Contents",
   "title_sidebar": "Contents",
   "toc_cell": true,
   "toc_position": {
    "height": "calc(100% - 180px)",
    "left": "10px",
    "top": "150px",
    "width": "371px"
   },
   "toc_section_display": true,
   "toc_window_display": true
  }
 },
 "nbformat": 4,
 "nbformat_minor": 4
}
