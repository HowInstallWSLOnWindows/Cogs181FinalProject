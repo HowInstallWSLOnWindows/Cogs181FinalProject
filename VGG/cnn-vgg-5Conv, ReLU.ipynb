{
 "cells": [
  {
   "cell_type": "markdown",
   "metadata": {
    "colab_type": "text",
    "id": "MkoGLH_Tj5wn"
   },
   "source": [
    "## Imports"
   ]
  },
  {
   "cell_type": "code",
   "execution_count": 1,
   "metadata": {
    "colab": {
     "autoexec": {
      "startup": false,
      "wait_interval": 0
     }
    },
    "colab_type": "code",
    "id": "ORj09gnrj5wp"
   },
   "outputs": [],
   "source": [
    "import time\n",
    "import numpy as np\n",
    "import torch\n",
    "import torch.nn as nn\n",
    "import torch.nn.functional as F\n",
    "from torchvision import datasets\n",
    "from torchvision import transforms\n",
    "from torch.utils.data import DataLoader\n",
    "\n",
    "\n",
    "if torch.cuda.is_available():\n",
    "    torch.backends.cudnn.deterministic = True"
   ]
  },
  {
   "cell_type": "markdown",
   "metadata": {
    "colab_type": "text",
    "id": "PvgJ_0i7j5wt"
   },
   "source": [
    "## Settings and Dataset"
   ]
  },
  {
   "cell_type": "code",
   "execution_count": 2,
   "metadata": {
    "colab": {
     "autoexec": {
      "startup": false,
      "wait_interval": 0
     },
     "base_uri": "https://localhost:8080/",
     "height": 85
    },
    "colab_type": "code",
    "executionInfo": {
     "elapsed": 23936,
     "status": "ok",
     "timestamp": 1524974497505,
     "user": {
      "displayName": "Sebastian Raschka",
      "photoUrl": "//lh6.googleusercontent.com/-cxK6yOSQ6uE/AAAAAAAAAAI/AAAAAAAAIfw/P9ar_CHsKOQ/s50-c-k-no/photo.jpg",
      "userId": "118404394130788869227"
     },
     "user_tz": 240
    },
    "id": "NnT0sZIwj5wu",
    "outputId": "55aed925-d17e-4c6a-8c71-0d9b3bde5637"
   },
   "outputs": [
    {
     "name": "stdout",
     "output_type": "stream",
     "text": [
      "cuda:0\n",
      "Files already downloaded and verified\n",
      "Image batch dimensions: torch.Size([128, 3, 32, 32])\n",
      "Image label dimensions: torch.Size([128])\n"
     ]
    }
   ],
   "source": [
    "##########################\n",
    "### SETTINGS\n",
    "##########################\n",
    "\n",
    "# Device\n",
    "device = torch.device(\"cuda:0\" if torch.cuda.is_available() else \"cpu\")\n",
    "print(device)\n",
    "\n",
    "# Hyperparameters\n",
    "random_seed = 1\n",
    "learning_rate = 0.001\n",
    "num_epochs = 10\n",
    "batch_size = 128\n",
    "\n",
    "# Architecture\n",
    "num_features = 784\n",
    "num_classes = 10\n",
    "\n",
    "\n",
    "##########################\n",
    "### MNIST DATASET\n",
    "##########################\n",
    "\n",
    "# Note transforms.ToTensor() scales input images\n",
    "# to 0-1 range\n",
    "train_dataset = datasets.CIFAR10(root='data', \n",
    "                                 train=True, \n",
    "                                 transform=transforms.ToTensor(),\n",
    "                                 download=True)\n",
    "\n",
    "test_dataset = datasets.CIFAR10(root='data', \n",
    "                                train=False, \n",
    "                                transform=transforms.ToTensor())\n",
    "\n",
    "\n",
    "train_loader = DataLoader(dataset=train_dataset, \n",
    "                          batch_size=batch_size, \n",
    "                          shuffle=True)\n",
    "\n",
    "test_loader = DataLoader(dataset=test_dataset, \n",
    "                         batch_size=batch_size, \n",
    "                         shuffle=False)\n",
    "\n",
    "# Checking the dataset\n",
    "for images, labels in train_loader:  \n",
    "    print('Image batch dimensions:', images.shape)\n",
    "    print('Image label dimensions:', labels.shape)\n",
    "    break"
   ]
  },
  {
   "cell_type": "markdown",
   "metadata": {
    "colab_type": "text",
    "id": "I6hghKPxj5w0"
   },
   "source": [
    "## Model"
   ]
  },
  {
   "cell_type": "code",
   "execution_count": 3,
   "metadata": {
    "colab": {
     "autoexec": {
      "startup": false,
      "wait_interval": 0
     }
    },
    "colab_type": "code",
    "id": "_lza9t_uj5w1"
   },
   "outputs": [],
   "source": [
    "##########################\n",
    "### MODEL\n",
    "##########################\n",
    "\n",
    "\n",
    "class VGG5(torch.nn.Module):\n",
    "\n",
    "    def __init__(self, num_features, num_classes):\n",
    "        super(VGG5, self).__init__()\n",
    "        \n",
    "        # calculate same padding:\n",
    "        # (w - k + 2*p)/s + 1 = o\n",
    "        # => p = (s(o-1) - w + k)/2\n",
    "        \n",
    "        self.block_1 = nn.Sequential(\n",
    "            nn.Conv2d(3, 64, kernel_size=11, stride=4, padding=2),\n",
    "            nn.ReLU(inplace=True),\n",
    "            nn.MaxPool2d(kernel_size=3, stride=2, padding=1),  \n",
    "            nn.Conv2d(64, 192, kernel_size=5, padding=2),\n",
    "            nn.ReLU(inplace=True),\n",
    "            nn.MaxPool2d(kernel_size=3, stride=2, padding=1),  \n",
    "            nn.Conv2d(192, 384, kernel_size=3, padding=1),\n",
    "            nn.ReLU(inplace=True),\n",
    "            nn.Conv2d(384, 256, kernel_size=3, padding=1),\n",
    "            nn.ReLU(inplace=True),\n",
    "            nn.MaxPool2d(kernel_size=3, stride=2, padding=1),  \n",
    "            nn.Conv2d(256, 256, kernel_size=3, padding=1),\n",
    "            nn.ReLU(inplace=True),\n",
    "            nn.MaxPool2d(kernel_size=3, stride=2, padding=1)\n",
    "        )\n",
    "        \n",
    "            \n",
    "        self.classifier = nn.Sequential(\n",
    "            nn.Linear(256, 4096),\n",
    "            nn.ReLU(True),\n",
    "            nn.Dropout(p=0.5),\n",
    "            nn.Linear(4096, 4096),\n",
    "            nn.ReLU(True),\n",
    "            nn.Dropout(p=0.5),\n",
    "            nn.Linear(4096, num_classes),\n",
    "        )\n",
    "            \n",
    "        for m in self.modules():\n",
    "            if isinstance(m, torch.nn.Conv2d) or isinstance(m, torch.nn.Linear):\n",
    "                nn.init.kaiming_uniform_(m.weight, mode='fan_in', nonlinearity='relu')\n",
    "                if m.bias is not None:\n",
    "                    m.bias.detach().zero_()\n",
    "                    \n",
    "        #self.avgpool = nn.AdaptiveAvgPool2d((7, 7))\n",
    "        \n",
    "        \n",
    "    def forward(self, x):\n",
    "\n",
    "        x = self.block_1(x)\n",
    "        #x = self.avgpool(x)\n",
    "        x = x.view(x.size(0), -1)\n",
    "        logits = self.classifier(x)\n",
    "        probas = F.softmax(logits, dim=1)\n",
    "\n",
    "        return logits, probas\n",
    "\n",
    "    \n",
    "torch.manual_seed(random_seed)\n",
    "model = VGG5(num_features=num_features,\n",
    "              num_classes=num_classes)\n",
    "\n",
    "model = model.to(device)\n",
    "optimizer = torch.optim.Adam(model.parameters(), lr=learning_rate)  "
   ]
  },
  {
   "cell_type": "markdown",
   "metadata": {
    "colab_type": "text",
    "id": "RAodboScj5w6"
   },
   "source": [
    "## Training"
   ]
  },
  {
   "cell_type": "code",
   "execution_count": 4,
   "metadata": {
    "colab": {
     "autoexec": {
      "startup": false,
      "wait_interval": 0
     },
     "base_uri": "https://localhost:8080/",
     "height": 1547
    },
    "colab_type": "code",
    "executionInfo": {
     "elapsed": 2384585,
     "status": "ok",
     "timestamp": 1524976888520,
     "user": {
      "displayName": "Sebastian Raschka",
      "photoUrl": "//lh6.googleusercontent.com/-cxK6yOSQ6uE/AAAAAAAAAAI/AAAAAAAAIfw/P9ar_CHsKOQ/s50-c-k-no/photo.jpg",
      "userId": "118404394130788869227"
     },
     "user_tz": 240
    },
    "id": "Dzh3ROmRj5w7",
    "outputId": "5f8fd8c9-b076-403a-b0b7-fd2d498b48d7"
   },
   "outputs": [
    {
     "name": "stdout",
     "output_type": "stream",
     "text": [
      "Epoch: 001/010 | Batch 0000/0391 | Cost: 2.4198\n",
      "Epoch: 001/010 | Batch 0050/0391 | Cost: 1.9801\n",
      "Epoch: 001/010 | Batch 0100/0391 | Cost: 1.9950\n",
      "Epoch: 001/010 | Batch 0150/0391 | Cost: 1.5915\n",
      "Epoch: 001/010 | Batch 0200/0391 | Cost: 1.6075\n",
      "Epoch: 001/010 | Batch 0250/0391 | Cost: 1.4704\n",
      "Epoch: 001/010 | Batch 0300/0391 | Cost: 1.7010\n",
      "Epoch: 001/010 | Batch 0350/0391 | Cost: 1.4616\n",
      "Epoch: 001/010 | Train: 45.616% |  Loss: 1.486\n",
      "Time elapsed: 0.57 min\n",
      "Epoch: 002/010 | Batch 0000/0391 | Cost: 1.4504\n",
      "Epoch: 002/010 | Batch 0050/0391 | Cost: 1.3755\n",
      "Epoch: 002/010 | Batch 0100/0391 | Cost: 1.2460\n",
      "Epoch: 002/010 | Batch 0150/0391 | Cost: 1.5644\n",
      "Epoch: 002/010 | Batch 0200/0391 | Cost: 1.6467\n",
      "Epoch: 002/010 | Batch 0250/0391 | Cost: 1.3798\n",
      "Epoch: 002/010 | Batch 0300/0391 | Cost: 1.5090\n",
      "Epoch: 002/010 | Batch 0350/0391 | Cost: 1.3743\n",
      "Epoch: 002/010 | Train: 54.164% |  Loss: 1.276\n",
      "Time elapsed: 1.09 min\n",
      "Epoch: 003/010 | Batch 0000/0391 | Cost: 1.2434\n",
      "Epoch: 003/010 | Batch 0050/0391 | Cost: 1.4754\n",
      "Epoch: 003/010 | Batch 0100/0391 | Cost: 1.2969\n",
      "Epoch: 003/010 | Batch 0150/0391 | Cost: 1.3339\n",
      "Epoch: 003/010 | Batch 0200/0391 | Cost: 1.2239\n",
      "Epoch: 003/010 | Batch 0250/0391 | Cost: 1.4223\n",
      "Epoch: 003/010 | Batch 0300/0391 | Cost: 1.1521\n",
      "Epoch: 003/010 | Batch 0350/0391 | Cost: 1.3261\n",
      "Epoch: 003/010 | Train: 58.848% |  Loss: 1.162\n",
      "Time elapsed: 1.60 min\n",
      "Epoch: 004/010 | Batch 0000/0391 | Cost: 1.1621\n",
      "Epoch: 004/010 | Batch 0050/0391 | Cost: 1.1402\n",
      "Epoch: 004/010 | Batch 0100/0391 | Cost: 1.3101\n",
      "Epoch: 004/010 | Batch 0150/0391 | Cost: 1.3980\n",
      "Epoch: 004/010 | Batch 0200/0391 | Cost: 1.0110\n",
      "Epoch: 004/010 | Batch 0250/0391 | Cost: 1.1382\n",
      "Epoch: 004/010 | Batch 0300/0391 | Cost: 1.3155\n",
      "Epoch: 004/010 | Batch 0350/0391 | Cost: 1.1456\n",
      "Epoch: 004/010 | Train: 62.376% |  Loss: 1.057\n",
      "Time elapsed: 2.12 min\n",
      "Epoch: 005/010 | Batch 0000/0391 | Cost: 0.9242\n",
      "Epoch: 005/010 | Batch 0050/0391 | Cost: 1.3206\n",
      "Epoch: 005/010 | Batch 0100/0391 | Cost: 0.9125\n",
      "Epoch: 005/010 | Batch 0150/0391 | Cost: 1.2079\n",
      "Epoch: 005/010 | Batch 0200/0391 | Cost: 0.8732\n",
      "Epoch: 005/010 | Batch 0250/0391 | Cost: 1.2701\n",
      "Epoch: 005/010 | Batch 0300/0391 | Cost: 1.2719\n",
      "Epoch: 005/010 | Batch 0350/0391 | Cost: 1.3493\n",
      "Epoch: 005/010 | Train: 64.314% |  Loss: 1.006\n",
      "Time elapsed: 2.70 min\n",
      "Epoch: 006/010 | Batch 0000/0391 | Cost: 0.8859\n",
      "Epoch: 006/010 | Batch 0050/0391 | Cost: 0.9170\n",
      "Epoch: 006/010 | Batch 0100/0391 | Cost: 1.0676\n",
      "Epoch: 006/010 | Batch 0150/0391 | Cost: 1.0300\n",
      "Epoch: 006/010 | Batch 0200/0391 | Cost: 0.9000\n",
      "Epoch: 006/010 | Batch 0250/0391 | Cost: 1.2504\n",
      "Epoch: 006/010 | Batch 0300/0391 | Cost: 1.0723\n",
      "Epoch: 006/010 | Batch 0350/0391 | Cost: 0.9929\n",
      "Epoch: 006/010 | Train: 68.104% |  Loss: 0.906\n",
      "Time elapsed: 3.23 min\n",
      "Epoch: 007/010 | Batch 0000/0391 | Cost: 0.9322\n",
      "Epoch: 007/010 | Batch 0050/0391 | Cost: 0.9686\n",
      "Epoch: 007/010 | Batch 0100/0391 | Cost: 0.7391\n",
      "Epoch: 007/010 | Batch 0150/0391 | Cost: 0.8550\n",
      "Epoch: 007/010 | Batch 0200/0391 | Cost: 0.9722\n",
      "Epoch: 007/010 | Batch 0250/0391 | Cost: 0.9715\n",
      "Epoch: 007/010 | Batch 0300/0391 | Cost: 1.2102\n",
      "Epoch: 007/010 | Batch 0350/0391 | Cost: 1.1008\n",
      "Epoch: 007/010 | Train: 68.878% |  Loss: 0.882\n",
      "Time elapsed: 3.76 min\n",
      "Epoch: 008/010 | Batch 0000/0391 | Cost: 0.9088\n",
      "Epoch: 008/010 | Batch 0050/0391 | Cost: 0.8301\n",
      "Epoch: 008/010 | Batch 0100/0391 | Cost: 0.9040\n",
      "Epoch: 008/010 | Batch 0150/0391 | Cost: 0.8136\n",
      "Epoch: 008/010 | Batch 0200/0391 | Cost: 0.8947\n",
      "Epoch: 008/010 | Batch 0250/0391 | Cost: 0.9791\n",
      "Epoch: 008/010 | Batch 0300/0391 | Cost: 1.0637\n",
      "Epoch: 008/010 | Batch 0350/0391 | Cost: 0.8624\n",
      "Epoch: 008/010 | Train: 71.444% |  Loss: 0.802\n",
      "Time elapsed: 4.28 min\n",
      "Epoch: 009/010 | Batch 0000/0391 | Cost: 0.7981\n",
      "Epoch: 009/010 | Batch 0050/0391 | Cost: 0.9236\n",
      "Epoch: 009/010 | Batch 0100/0391 | Cost: 0.8023\n",
      "Epoch: 009/010 | Batch 0150/0391 | Cost: 0.7618\n",
      "Epoch: 009/010 | Batch 0200/0391 | Cost: 0.8465\n",
      "Epoch: 009/010 | Batch 0250/0391 | Cost: 0.8636\n",
      "Epoch: 009/010 | Batch 0300/0391 | Cost: 0.6490\n",
      "Epoch: 009/010 | Batch 0350/0391 | Cost: 0.8648\n",
      "Epoch: 009/010 | Train: 75.846% |  Loss: 0.682\n",
      "Time elapsed: 4.80 min\n",
      "Epoch: 010/010 | Batch 0000/0391 | Cost: 0.7030\n",
      "Epoch: 010/010 | Batch 0050/0391 | Cost: 0.5872\n",
      "Epoch: 010/010 | Batch 0100/0391 | Cost: 0.7864\n",
      "Epoch: 010/010 | Batch 0150/0391 | Cost: 0.8512\n",
      "Epoch: 010/010 | Batch 0200/0391 | Cost: 0.7138\n",
      "Epoch: 010/010 | Batch 0250/0391 | Cost: 0.8051\n",
      "Epoch: 010/010 | Batch 0300/0391 | Cost: 0.6490\n",
      "Epoch: 010/010 | Batch 0350/0391 | Cost: 0.8309\n",
      "Epoch: 010/010 | Train: 77.094% |  Loss: 0.644\n",
      "Time elapsed: 5.31 min\n",
      "Total Training Time: 5.31 min\n"
     ]
    }
   ],
   "source": [
    "def compute_accuracy(model, data_loader):\n",
    "    model.eval()\n",
    "    correct_pred, num_examples = 0, 0\n",
    "    for i, (features, targets) in enumerate(data_loader):\n",
    "            \n",
    "        features = features.to(device)\n",
    "        targets = targets.to(device)\n",
    "\n",
    "        logits, probas = model(features)\n",
    "        _, predicted_labels = torch.max(probas, 1)\n",
    "        num_examples += targets.size(0)\n",
    "        correct_pred += (predicted_labels == targets).sum()\n",
    "    return correct_pred.float()/num_examples * 100\n",
    "\n",
    "\n",
    "def compute_epoch_loss(model, data_loader):\n",
    "    model.eval()\n",
    "    curr_loss, num_examples = 0., 0\n",
    "    with torch.no_grad():\n",
    "        for features, targets in data_loader:\n",
    "            features = features.to(device)\n",
    "            targets = targets.to(device)\n",
    "            logits, probas = model(features)\n",
    "            loss = F.cross_entropy(logits, targets, reduction='sum')\n",
    "            num_examples += targets.size(0)\n",
    "            curr_loss += loss\n",
    "\n",
    "        curr_loss = curr_loss / num_examples\n",
    "        return curr_loss\n",
    "    \n",
    "    \n",
    "\n",
    "start_time = time.time()\n",
    "for epoch in range(num_epochs):\n",
    "    \n",
    "    model.train()\n",
    "    for batch_idx, (features, targets) in enumerate(train_loader):\n",
    "        \n",
    "        features = features.to(device)\n",
    "        targets = targets.to(device)\n",
    "            \n",
    "        ### FORWARD AND BACK PROP\n",
    "        logits, probas = model(features)\n",
    "        cost = F.cross_entropy(logits, targets)\n",
    "        optimizer.zero_grad()\n",
    "        \n",
    "        cost.backward()\n",
    "        \n",
    "        ### UPDATE MODEL PARAMETERS\n",
    "        optimizer.step()\n",
    "        \n",
    "        ### LOGGING\n",
    "        if not batch_idx % 50:\n",
    "            print ('Epoch: %03d/%03d | Batch %04d/%04d | Cost: %.4f' \n",
    "                   %(epoch+1, num_epochs, batch_idx, \n",
    "                     len(train_loader), cost))\n",
    "\n",
    "    model.eval()\n",
    "    with torch.set_grad_enabled(False): # save memory during inference\n",
    "        print('Epoch: %03d/%03d | Train: %.3f%% |  Loss: %.3f' % (\n",
    "              epoch+1, num_epochs, \n",
    "              compute_accuracy(model, train_loader),\n",
    "              compute_epoch_loss(model, train_loader)))\n",
    "\n",
    "\n",
    "    print('Time elapsed: %.2f min' % ((time.time() - start_time)/60))\n",
    "    \n",
    "print('Total Training Time: %.2f min' % ((time.time() - start_time)/60))"
   ]
  },
  {
   "cell_type": "markdown",
   "metadata": {
    "colab_type": "text",
    "id": "paaeEQHQj5xC"
   },
   "source": [
    "## Evaluation"
   ]
  },
  {
   "cell_type": "code",
   "execution_count": 5,
   "metadata": {
    "colab": {
     "autoexec": {
      "startup": false,
      "wait_interval": 0
     },
     "base_uri": "https://localhost:8080/",
     "height": 34
    },
    "colab_type": "code",
    "executionInfo": {
     "elapsed": 6514,
     "status": "ok",
     "timestamp": 1524976895054,
     "user": {
      "displayName": "Sebastian Raschka",
      "photoUrl": "//lh6.googleusercontent.com/-cxK6yOSQ6uE/AAAAAAAAAAI/AAAAAAAAIfw/P9ar_CHsKOQ/s50-c-k-no/photo.jpg",
      "userId": "118404394130788869227"
     },
     "user_tz": 240
    },
    "id": "gzQMWKq5j5xE",
    "outputId": "de7dc005-5eeb-4177-9f9f-d9b5d1358db9"
   },
   "outputs": [
    {
     "name": "stdout",
     "output_type": "stream",
     "text": [
      "Test accuracy: 60.54%\n"
     ]
    }
   ],
   "source": [
    "with torch.set_grad_enabled(False): # save memory during inference\n",
    "    print('Test accuracy: %.2f%%' % (compute_accuracy(model, test_loader)))"
   ]
  }
 ],
 "metadata": {
  "accelerator": "GPU",
  "colab": {
   "collapsed_sections": [],
   "default_view": {},
   "name": "convnet-vgg16.ipynb",
   "provenance": [],
   "version": "0.3.2",
   "views": {}
  },
  "kernelspec": {
   "display_name": "Python 3 (ipykernel)",
   "language": "python",
   "name": "python3"
  },
  "language_info": {
   "codemirror_mode": {
    "name": "ipython",
    "version": 3
   },
   "file_extension": ".py",
   "mimetype": "text/x-python",
   "name": "python",
   "nbconvert_exporter": "python",
   "pygments_lexer": "ipython3",
   "version": "3.9.5"
  },
  "toc": {
   "nav_menu": {},
   "number_sections": true,
   "sideBar": true,
   "skip_h1_title": false,
   "title_cell": "Table of Contents",
   "title_sidebar": "Contents",
   "toc_cell": true,
   "toc_position": {
    "height": "calc(100% - 180px)",
    "left": "10px",
    "top": "150px",
    "width": "371px"
   },
   "toc_section_display": true,
   "toc_window_display": true
  }
 },
 "nbformat": 4,
 "nbformat_minor": 4
}
